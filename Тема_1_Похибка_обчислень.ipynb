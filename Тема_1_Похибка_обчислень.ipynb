{
  "nbformat": 4,
  "nbformat_minor": 0,
  "metadata": {
    "colab": {
      "provenance": [],
      "authorship_tag": "ABX9TyPfyfd6aEKP975/wqBqlx61",
      "include_colab_link": true
    },
    "kernelspec": {
      "name": "python3",
      "display_name": "Python 3"
    },
    "language_info": {
      "name": "python"
    }
  },
  "cells": [
    {
      "cell_type": "markdown",
      "metadata": {
        "id": "view-in-github",
        "colab_type": "text"
      },
      "source": [
        "<a href=\"https://colab.research.google.com/github/TatyanaFilimonova/-_-/blob/main/%D0%A2%D0%B5%D0%BC%D0%B0_1_%D0%9F%D0%BE%D1%85%D0%B8%D0%B1%D0%BA%D0%B0_%D0%BE%D0%B1%D1%87%D0%B8%D1%81%D0%BB%D0%B5%D0%BD%D1%8C.ipynb\" target=\"_parent\"><img src=\"https://colab.research.google.com/assets/colab-badge.svg\" alt=\"Open In Colab\"/></a>"
      ]
    },
    {
      "cell_type": "markdown",
      "source": [
        "#Тема 1.\n",
        "Похибки обчислень"
      ],
      "metadata": {
        "id": "QIS1w_NEiL7P"
      }
    },
    {
      "cell_type": "markdown",
      "source": [
        "#Завдання. Обчислення відносної і абсолютної похибки"
      ],
      "metadata": {
        "id": "7ClyPDrHiprY"
      }
    },
    {
      "cell_type": "code",
      "execution_count": null,
      "metadata": {
        "colab": {
          "base_uri": "https://localhost:8080/"
        },
        "id": "f4CX7RUAiJ8a",
        "outputId": "fac4caf1-e735-4cf4-b9f0-594db6623b3b"
      },
      "outputs": [
        {
          "name": "stdout",
          "output_type": "stream",
          "text": [
            "Введіть наближене значенння величини X: 3.15\n",
            "Введіть абсолютну похибку вимірювання величини X: 0.01\n",
            "Введіть наближене значенння величини Y: 2.18\n",
            "Введіть абсолютну похибку вимірювання величини Y: 0.004\n"
          ]
        }
      ],
      "source": [
        "x = float(input('Введіть наближене значенння величини X: ' ))\n",
        "delta_x = float(input('Введіть абсолютну похибку вимірювання величини X: '))\n",
        "y = float(input('Введіть наближене значенння величини Y: ' ))\n",
        "delta_y = float(input('Введіть абсолютну похибку вимірювання величини Y: '))\n",
        "\n"
      ]
    },
    {
      "cell_type": "code",
      "source": [
        "omega_x = delta_x/x\n",
        "omega_y = delta_y/y\n",
        "\n",
        "print('Відносна похибка значення величини X: ', omega_x)\n",
        "print('Відносна похибка значення величини Y: ', omega_y)\n",
        "\n"
      ],
      "metadata": {
        "colab": {
          "base_uri": "https://localhost:8080/"
        },
        "id": "YiFvKKkZiiom",
        "outputId": "43653aef-7cca-4628-878f-af7039a72bdc"
      },
      "execution_count": null,
      "outputs": [
        {
          "output_type": "stream",
          "name": "stdout",
          "text": [
            "Відносна похибка значення величини X:  0.0031746031746031746\n",
            "Відносна похибка значення величини Y:  0.0018348623853211008\n"
          ]
        }
      ]
    },
    {
      "cell_type": "code",
      "source": [
        "def delta_sum(delta_x, delta_y):\n",
        "    return delta_x + delta_y\n",
        "print('Абсолютна похибка X+Y: ', delta_sum(delta_x, delta_y))\n"
      ],
      "metadata": {
        "colab": {
          "base_uri": "https://localhost:8080/"
        },
        "id": "fNac_lqCiydf",
        "outputId": "50eb8fd1-a1c2-4696-cc13-9b000e57d6e6"
      },
      "execution_count": null,
      "outputs": [
        {
          "output_type": "stream",
          "name": "stdout",
          "text": [
            "Абсолютна похибка X+Y:  0.014\n"
          ]
        }
      ]
    },
    {
      "cell_type": "code",
      "source": [
        "def delta_sub(delta_x, delta_y):\n",
        "    return delta_x - delta_y\n",
        "print('Абсолютна похибка X-Y: ', delta_sub(delta_x, delta_y))\n"
      ],
      "metadata": {
        "colab": {
          "base_uri": "https://localhost:8080/"
        },
        "id": "gUQ2-FeNioLI",
        "outputId": "01c3eb89-13da-461a-aa69-53e075c2b726"
      },
      "execution_count": null,
      "outputs": [
        {
          "output_type": "stream",
          "name": "stdout",
          "text": [
            "Абсолютна похибка X-Y:  0.006\n"
          ]
        }
      ]
    },
    {
      "cell_type": "code",
      "source": [
        "def delta_mult(x, y, delta_x, delta_y):\n",
        "    return delta_x*delta_y + delta_x*y + x*delta_y\n",
        "print('Абсолютна похибка X*Y: ', delta_mult(x, y, delta_x, delta_y))"
      ],
      "metadata": {
        "colab": {
          "base_uri": "https://localhost:8080/"
        },
        "id": "4aN_ZX2Qi9N5",
        "outputId": "143b4c5b-1e55-4f69-c458-7e4571ce700f"
      },
      "execution_count": null,
      "outputs": [
        {
          "output_type": "stream",
          "name": "stdout",
          "text": [
            "Абсолютна похибка X*Y:  0.03444\n"
          ]
        }
      ]
    },
    {
      "cell_type": "code",
      "source": [
        "def delta_div(x, y, delta_x, delta_y):\n",
        "    return (delta_x + x)/(delta_y +y) - x/y\n",
        "print('Абсолютна похибка X/Y: ', delta_div(x, y, delta_x, delta_y))\n"
      ],
      "metadata": {
        "colab": {
          "base_uri": "https://localhost:8080/"
        },
        "id": "8ghAYPOOjDSY",
        "outputId": "98368aa1-f80d-4ee8-ac85-21af6e1948db"
      },
      "execution_count": null,
      "outputs": [
        {
          "output_type": "stream",
          "name": "stdout",
          "text": [
            "Абсолютна похибка X/Y:  0.0019323184460797727\n"
          ]
        }
      ]
    },
    {
      "cell_type": "code",
      "source": [
        "def omega_sum(x, y, omega_x, omega_y):\n",
        "    return x/(x+y)*omega_x + y/(x+y)*omega_y\n",
        "print('Відносна похибка X+Y: ', omega_sum(x, y, omega_x, omega_y))\n"
      ],
      "metadata": {
        "colab": {
          "base_uri": "https://localhost:8080/"
        },
        "id": "hZP_9ElkjHb8",
        "outputId": "a58ced09-e88c-4b02-ce4f-5c135cf60ce4"
      },
      "execution_count": null,
      "outputs": [
        {
          "output_type": "stream",
          "name": "stdout",
          "text": [
            "Відносна похибка X+Y:  0.002626641651031895\n"
          ]
        }
      ]
    },
    {
      "cell_type": "code",
      "source": [
        "def omega_sub(x, y, omega_x, omega_y):\n",
        "    return x/(x-y)*omega_x - y/(x-y)*omega_y\n",
        "print('Відносна похибка X-Y: ', omega_sub(x, y, omega_x, omega_y))\n"
      ],
      "metadata": {
        "colab": {
          "base_uri": "https://localhost:8080/"
        },
        "id": "a-dSKrSCjN3f",
        "outputId": "91ee69e3-7eff-4060-90fc-a57ea725b95f"
      },
      "execution_count": null,
      "outputs": [
        {
          "output_type": "stream",
          "name": "stdout",
          "text": [
            "Відносна похибка X-Y:  0.006185567010309281\n"
          ]
        }
      ]
    },
    {
      "cell_type": "code",
      "source": [
        "def omega_mult(omega_x, omega_y):\n",
        "    return omega_x*omega_y + omega_x + omega_y\n",
        "print('Відносна похибка X*Y: ', omega_mult(omega_x, omega_y))\n",
        "\n"
      ],
      "metadata": {
        "colab": {
          "base_uri": "https://localhost:8080/"
        },
        "id": "gNlz6A5wjRHR",
        "outputId": "8e214f26-c024-4316-b690-51f6cf89ee35"
      },
      "execution_count": null,
      "outputs": [
        {
          "output_type": "stream",
          "name": "stdout",
          "text": [
            "Відносна похибка X*Y:  0.005015290519877676\n"
          ]
        }
      ]
    },
    {
      "cell_type": "code",
      "source": [
        "def omega_div(omega_x, omega_y):\n",
        "    return (omega_x - omega_y) / (omega_y + 1)\n",
        "print('Відносна похибка X/Y: ', omega_div(omega_x, omega_y))"
      ],
      "metadata": {
        "colab": {
          "base_uri": "https://localhost:8080/"
        },
        "id": "CdSAJEPRjTlz",
        "outputId": "0d5cac26-ac49-4e13-b78a-a45f5ca30b32"
      },
      "execution_count": null,
      "outputs": [
        {
          "output_type": "stream",
          "name": "stdout",
          "text": [
            "Відносна похибка X/Y:  0.001337287051572766\n"
          ]
        }
      ]
    },
    {
      "cell_type": "markdown",
      "source": [
        "Приклад реалізації завдання 1"
      ],
      "metadata": {
        "id": "Be7Zm1jb9ZjU"
      }
    },
    {
      "cell_type": "code",
      "source": [
        "import numpy as np\n",
        "\n",
        "def f(x, y):\n",
        "    return np.abs(x - y) / np.abs(x)\n",
        "\n",
        "def main():\n",
        "    x1 = np.sqrt(18)  # Точне значення sqrt(18)\n",
        "    x2 = 9 / 11  # Точне значення 9/11\n",
        "    x1_1 = 4.24  # Наближене значення sqrt(18)\n",
        "    x2_2 = 0.818  # Наближене значення 9/11\n",
        "\n",
        "    rel_error_x1 = f(x1, x1_1)\n",
        "    rel_error_x2 = f(x2, x2_2)\n",
        "\n",
        "    if rel_error_x1 < rel_error_x2:\n",
        "        print(\"Перша рівність точніше з відносною похибкою:\", round(rel_error_x1, 5))\n",
        "    elif rel_error_x2 < rel_error_x1:\n",
        "        print(\"Друга рівність точніше з відносною похибкою:\", round(rel_error_x2, 5))\n",
        "    else:\n",
        "        print(\"Обидві рівності мають однакову точність з відносною похибкою:\", round(rel_error_x2, 5))\n",
        "\n",
        "if __name__ == \"__main__\":\n",
        "    main()\n"
      ],
      "metadata": {
        "colab": {
          "base_uri": "https://localhost:8080/"
        },
        "id": "k34h0Z6EjU1P",
        "outputId": "32a917db-10bc-4619-b958-1625c828a658"
      },
      "execution_count": null,
      "outputs": [
        {
          "output_type": "stream",
          "name": "stdout",
          "text": [
            "Друга рівність точніше з відносною похибкою: 0.00022\n"
          ]
        }
      ]
    }
  ]
}